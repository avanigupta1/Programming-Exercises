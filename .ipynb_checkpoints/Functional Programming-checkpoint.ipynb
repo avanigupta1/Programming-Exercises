{
 "cells": [
  {
   "cell_type": "markdown",
   "metadata": {},
   "source": [
    "## Basic Functional Programming Exercise\n",
    "\n",
    "Creating method to calculate probability of specific character in delimited string. "
   ]
  },
  {
   "cell_type": "code",
   "execution_count": null,
   "metadata": {},
   "outputs": [],
   "source": [
    "import itertools\n",
    "\n",
    "def letterProb(string, I, letter):\n",
    "    \"\"\"\n",
    "    Returns the percentage probability of a defined letter being in a list of tuples.\n",
    "    The list of tuples is made up of all unique letter combinations of an input string, \n",
    "    and each tuple length is defined by an input integer. \n",
    "    \n",
    "    :type string: str - individual uppercase characters seperated by delimeter\n",
    "    :type I: int\n",
    "    :type letter: str\n",
    "    \"\"\"\n",
    "    #Troubleshooting\n",
    "    if not isinstance(string, str): #troubleshooting for non-string\n",
    "        raise ValueError(\"Input Not String Type\")\n",
    "    if '|' not in string: #troubleshooting for string input\n",
    "        raise ValueError(\"Incorrect String Input Syntax\")\n",
    "    if not isinstance(I, int): #troubleshooting for non-integer\n",
    "        raise ValueError(\"'I' Not Integer Type\")\n",
    "    if not isinstance(letter, str): #troubleshooting for non-letter\n",
    "        raise ValueError(\"Letter Not String Type\")\n",
    "    if not letter.isupper(): #troubleshooting for letter case\n",
    "        raise ValueError(\"Letter in Incorrect Case\") \n",
    "    \n",
    "    #Main functionality\n",
    "    else:\n",
    "        string = tuple(string.split(\"|\")) #split string\n",
    "        \n",
    "        for s in string: #troubleshooting for multi-char str between delim\n",
    "            if len(s) >1:\n",
    "                raise ValueError(\"Length of Single Character > 1\") \n",
    "            if not s.isupper():\n",
    "                raise ValueError(\"At Least One Input Letter Not Upper Case\") \n",
    "        \n",
    "        tupleList = list(itertools.combinations(string, I)) #create list of unique tuples\n",
    "        letterCount = 0 #start letter counter at 0\n",
    "        \n",
    "        for tup in tupleList: #using each tuple in the list of tuples, find whether or not said letter is in said tuple\n",
    "            if letter in tup:\n",
    "                letterCount += 1 #add each tuple the letter is in to counter\n",
    "            else:\n",
    "                continue\n",
    "        \n",
    "        prob = (letterCount)/(len(tupleList)) #divide final tally by number of tuples\n",
    "        print(prob) #print probability of letter being in a randomly chosen generated tuple\n",
    "\n",
    "    \n",
    "##Test\n",
    "letterProb(\"A|Z|D|Z|F|G|Z\", 4, 'Z')\n"
   ]
  }
 ],
 "metadata": {
  "kernelspec": {
   "display_name": "Python 3",
   "language": "python",
   "name": "python3"
  },
  "language_info": {
   "codemirror_mode": {
    "name": "ipython",
    "version": 3
   },
   "file_extension": ".py",
   "mimetype": "text/x-python",
   "name": "python",
   "nbconvert_exporter": "python",
   "pygments_lexer": "ipython3",
   "version": "3.6.5"
  }
 },
 "nbformat": 4,
 "nbformat_minor": 2
}
