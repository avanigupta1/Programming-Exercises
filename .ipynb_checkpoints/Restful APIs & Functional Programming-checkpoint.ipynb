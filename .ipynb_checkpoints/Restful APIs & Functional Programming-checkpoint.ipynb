{
 "cells": [
  {
   "cell_type": "markdown",
   "metadata": {},
   "source": [
    "## Basic Restful API Exercises"
   ]
  },
  {
   "cell_type": "markdown",
   "metadata": {},
   "source": [
    "#### Exercise 1. \n",
    "Create a class called `Client`. When a client object is instantiated, it should set two data attributes: `username` and `password`. Give this class a unique representation which only shows the username, but obfuscates the password by changing the actual password to all X's that have the same length as the original password. For instance when someone prints a client object, it should show something like:\n",
    "\n",
    "`<Client username:abcd password:XXXXXX\\>`\n",
    "\n",
    "Where the original password had `6` letters.\n"
   ]
  },
  {
   "cell_type": "code",
   "execution_count": 1,
   "metadata": {},
   "outputs": [
    {
     "ename": "SyntaxError",
     "evalue": "invalid syntax (<ipython-input-1-50040b35fbb0>, line 16)",
     "output_type": "error",
     "traceback": [
      "\u001b[0;36m  File \u001b[0;32m\"<ipython-input-1-50040b35fbb0>\"\u001b[0;36m, line \u001b[0;32m16\u001b[0m\n\u001b[0;31m    ag_password = #insert password\u001b[0m\n\u001b[0m                                  ^\u001b[0m\n\u001b[0;31mSyntaxError\u001b[0m\u001b[0;31m:\u001b[0m invalid syntax\n"
     ]
    }
   ],
   "source": [
    "#SYNTAX ERROR: insert correct username password to run \n",
    "\n",
    "class Client:\n",
    "    \"\"\"\n",
    "    Class Client created to take client's username and password, \n",
    "    and return representation of said user with password obfuscated.\n",
    "    \"\"\"\n",
    "    def __init__(self, username, password): \n",
    "        self.username = username\n",
    "        self.password = password\n",
    "        return\n",
    "        \n",
    "    def __repr__(self):\n",
    "        return('<Client username:{} password:{}\\>'.format(self.username, (str('X')*len(str(self.password)))))\n",
    "\n",
    "#Test\n",
    "ag_username = avanigupta1\n",
    "ag_password = #insert password\n",
    "Client(ag_username, ag_password)"
   ]
  },
  {
   "cell_type": "markdown",
   "metadata": {},
   "source": [
    "#### Exercise 2. \n",
    "Create a class `GitHubCaller`. This class should inherit from the Client class. GitHubCaller should have a data attribute named `base_url`. During instantiation, set this value to `https://api.github.com`. It should also have a property attribute called `endpoint`. During instantiation, set this value to `/orgs/bios821-2018`. Create a method for this class called `getit`. This method should `return` a python dictionary that is the result of an authenticated `GET` request to the endpoint. All other functionality (e.g. representation) should be handled by the `Client` class. "
   ]
  },
  {
   "cell_type": "code",
   "execution_count": 2,
   "metadata": {},
   "outputs": [
    {
     "ename": "NameError",
     "evalue": "name 'Client' is not defined",
     "output_type": "error",
     "traceback": [
      "\u001b[0;31m---------------------------------------------------------------------------\u001b[0m",
      "\u001b[0;31mNameError\u001b[0m                                 Traceback (most recent call last)",
      "\u001b[0;32m<ipython-input-2-002d9010c88c>\u001b[0m in \u001b[0;36m<module>\u001b[0;34m()\u001b[0m\n\u001b[1;32m      1\u001b[0m \u001b[0;32mimport\u001b[0m \u001b[0mrequests\u001b[0m\u001b[0;34m\u001b[0m\u001b[0m\n\u001b[1;32m      2\u001b[0m \u001b[0;34m\u001b[0m\u001b[0m\n\u001b[0;32m----> 3\u001b[0;31m \u001b[0;32mclass\u001b[0m \u001b[0mGitHubCaller\u001b[0m\u001b[0;34m(\u001b[0m\u001b[0mClient\u001b[0m\u001b[0;34m)\u001b[0m\u001b[0;34m:\u001b[0m\u001b[0;34m\u001b[0m\u001b[0m\n\u001b[0m\u001b[1;32m      4\u001b[0m     \"\"\"\n\u001b[1;32m      5\u001b[0m     \u001b[0mClass\u001b[0m \u001b[0mGitHubCaller\u001b[0m \u001b[0minherits\u001b[0m \u001b[0;32mfrom\u001b[0m \u001b[0mClient\u001b[0m\u001b[0;34m.\u001b[0m\u001b[0;34m\u001b[0m\u001b[0m\n",
      "\u001b[0;31mNameError\u001b[0m: name 'Client' is not defined"
     ]
    }
   ],
   "source": [
    "#SYNTAX ERROR: insert correct username and password in Client class to run \n",
    "\n",
    "import requests\n",
    "\n",
    "class GitHubCaller(Client):\n",
    "    \"\"\"\n",
    "    Class GitHubCaller inherits from Client.\n",
    "    GitHubCaller class obtains username and password from Client class,\n",
    "    and returns authenticated GET request from input API.\n",
    "    At instantiation, API = https://api.github.com/orgs/bios821-2018\n",
    "    \"\"\"\n",
    "    def __init__(self, username, password, base_url='https://api.github.com'): #inherit attributes from Client, setting base\n",
    "        super().__init__(username, password)\n",
    "        self.base_url = base_url\n",
    "        self.endpoint = '/orgs/bios821-2018' #setting initial endpoint \n",
    "        return\n",
    "    \n",
    "    @property\n",
    "    def endpoint(self):\n",
    "        #print('Getting Endpoint')\n",
    "        return self._endpoint\n",
    "    \n",
    "    \n",
    "    @endpoint.setter\n",
    "    def endpoint(self, value):\n",
    "        print('Setting Endpoint')\n",
    "        self._endpoint = value\n",
    "        \n",
    "    \n",
    "    def getit(self):\n",
    "        print('Getting Result of Authenticated GET Request For {}'.format(self.username))\n",
    "        z = requests.get(self.base_url+self.endpoint, auth=(self.username,self.password)) #creating 'requests.get' string\n",
    "        if z.status_code !=200: #error message if status code does not equal 200\n",
    "            raise ValueError(\"Authentication Failed\")\n",
    "        else:\n",
    "            self.getit = z\n",
    "        return(z.json())\n",
    "    \n",
    "    def __repr__(self):\n",
    "        return ('Dictionary for Endpoint{} from Username {} Created'.format(self._endpoint, self.username))\n",
    "    \n",
    "        \n",
    "#Test\n",
    "c = GitHubCaller(ag_username, ag_password) #setting GitHubCaller\n",
    "print(c) #printing result of calling class\n",
    "c.getit() #calling getit method to return dictionary"
   ]
  }
 ],
 "metadata": {
  "kernelspec": {
   "display_name": "Python 3",
   "language": "python",
   "name": "python3"
  },
  "language_info": {
   "codemirror_mode": {
    "name": "ipython",
    "version": 3
   },
   "file_extension": ".py",
   "mimetype": "text/x-python",
   "name": "python",
   "nbconvert_exporter": "python",
   "pygments_lexer": "ipython3",
   "version": "3.6.5"
  }
 },
 "nbformat": 4,
 "nbformat_minor": 2
}
