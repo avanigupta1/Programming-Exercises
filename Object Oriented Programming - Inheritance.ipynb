{
 "cells": [
  {
   "cell_type": "markdown",
   "metadata": {},
   "source": [
    "## Basic Object Oriented Programming Exercise"
   ]
  },
  {
   "cell_type": "markdown",
   "metadata": {},
   "source": [
    "### Exercise 1: \n",
    "\n",
    "Create a new python type that is capable of introspecting the most important part of the car - the battery!. Create this new python type so that when a battery is created it has 100% power. It's likely that power will change a lot over time, so make sure that the way in which the battery power is set and get is capable of being changed without having to change the api."
   ]
  },
  {
   "cell_type": "code",
   "execution_count": 1,
   "metadata": {},
   "outputs": [
    {
     "name": "stdout",
     "output_type": "stream",
     "text": [
      "100% Power\n",
      "99% Power\n"
     ]
    }
   ],
   "source": [
    "class Battery:\n",
    "    \"\"\"\n",
    "    Battery class created to indicate power level. \n",
    "    \"\"\"\n",
    "    def __init__(self, battery = 100): #default value to 100\n",
    "        self.battery = battery #return initial default value to battery power level\n",
    "        return \n",
    "\n",
    "    @property #get battery power level\n",
    "    def battery(self):\n",
    "        return self._battery\n",
    "\n",
    "    @battery.setter #set battery power level\n",
    "    def battery(self, value):\n",
    "        if (value > 100) or (value < 0): #create range for battery level allowance, raise error if out of range\n",
    "            raise ValueError(\"Power Level Exceeds Capability\")\n",
    "        self._battery = value\n",
    "        \n",
    "    def __repr__(self): #represent battery power level as string\n",
    "        return ('{}% Power'.format(self.battery))\n",
    "    \n",
    "##Test\n",
    "B = Battery()\n",
    "print(B)\n",
    "B.battery=99\n",
    "print(B)\n"
   ]
  },
  {
   "cell_type": "markdown",
   "metadata": {},
   "source": [
    "### Exercise 2: \n",
    "\n",
    "Create the `Car` type. This type should inherit the Battery type.  \n",
    "1. Create a method called `draw`. This method should create an iterator that decrements the battery's power by 1 each time it is called. Go ahead and instantiate this iterator every time a Car type is built.  \n",
    "\n",
    "\n",
    "2. Second, create a method called `throttle`. Each time throttle is called it returns the current power of the battery by executing next on the iterator built from `draw`."
   ]
  },
  {
   "cell_type": "code",
   "execution_count": 2,
   "metadata": {},
   "outputs": [
    {
     "name": "stdout",
     "output_type": "stream",
     "text": [
      "Updating Power Level\n",
      "100% Power\n",
      "Updating Power Level\n",
      "Setting Power Level\n",
      "97% Power\n",
      "Setting Power Level\n",
      "96% Power\n",
      "Updating Power Level\n",
      "98% Power\n"
     ]
    }
   ],
   "source": [
    "class Car(Battery):\n",
    "    \"\"\"\n",
    "    Car class inherits from Battery.\n",
    "    Car class creates draw and throttle methods, and in doing so,\n",
    "    reflects actions on battery power level from Battery class.  \n",
    "    \"\"\"\n",
    "    def __init__(self, battery = 100): #inherit attributes from battery\n",
    "        super().__init__(battery)\n",
    "        self.iterator = self.draw() #indicate iterator and draw process\n",
    "    \n",
    "    def draw(self): #create iterator for throttle\n",
    "        print('Updating Power Level')\n",
    "        iterator = iter(range(self.battery,0,-1))\n",
    "        return iterator\n",
    "    \n",
    "    def throttle(self): #create method to execute iterator created in draw\n",
    "        print('Setting Power Level')\n",
    "        self.battery = next(self.iterator)\n",
    "        if (self._battery > 100) or (self._battery < 0):\n",
    "            raise ValueError(\"Power Level Limits Exceeded\")\n",
    "        return ('{}% Power'.format(self.battery))\n",
    "    \n",
    "    \n",
    "##Test\n",
    "c= Car() #initial power level\n",
    "print(c)\n",
    "c = Car(97) #allowance for setting new power level\n",
    "print(c.throttle())\n",
    "print(c.throttle())\n",
    "\n",
    "z = Car(98)\n",
    "print(z)"
   ]
  },
  {
   "cell_type": "code",
   "execution_count": null,
   "metadata": {},
   "outputs": [],
   "source": []
  }
 ],
 "metadata": {
  "kernelspec": {
   "display_name": "Python 3",
   "language": "python",
   "name": "python3"
  },
  "language_info": {
   "codemirror_mode": {
    "name": "ipython",
    "version": 3
   },
   "file_extension": ".py",
   "mimetype": "text/x-python",
   "name": "python",
   "nbconvert_exporter": "python",
   "pygments_lexer": "ipython3",
   "version": "3.6.5"
  }
 },
 "nbformat": 4,
 "nbformat_minor": 2
}
